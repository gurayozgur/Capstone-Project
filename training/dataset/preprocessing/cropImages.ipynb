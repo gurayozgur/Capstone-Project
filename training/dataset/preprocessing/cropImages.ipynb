{
  "nbformat": 4,
  "nbformat_minor": 0,
  "metadata": {
    "colab": {
      "provenance": []
    },
    "kernelspec": {
      "name": "python3",
      "display_name": "Python 3"
    }
  },
  "cells": [
    {
      "cell_type": "code",
      "metadata": {
        "id": "UL4jUat5IOXU"
      },
      "source": [
        "from google.colab import drive\n",
        "drive.mount('/content/drive')\n",
        "\n",
        "!ls \"/content/drive/My Drive/Colab Notebooks/mert/facemask\""
      ],
      "execution_count": null,
      "outputs": []
    },
    {
      "cell_type": "code",
      "metadata": {
        "colab": {
          "base_uri": "https://localhost:8080/"
        },
        "id": "8oLf24YQImFN",
        "outputId": "ec6bf2e3-28fc-47be-8639-eac0c471f23e"
      },
      "source": [
        "!pwd"
      ],
      "execution_count": null,
      "outputs": [
        {
          "output_type": "stream",
          "text": [
            "/content\n"
          ],
          "name": "stdout"
        }
      ]
    },
    {
      "cell_type": "code",
      "metadata": {
        "id": "FXXEb7nmAgl6"
      },
      "source": [
        "\"\"\"\n",
        "Crops the images in subfolders of current directory according to annotations in 'Annotation' Folder and places then in 'Cropped'\n",
        "Instructions: \n",
        "\t1.In an empty directory, store this script and all the folders containing the images that will be processed\n",
        "\t2.In the same directory, add the \\Annotation\\ folder, containing a respective folder for each one in the directory, which in turn contain the annotation files\n",
        "\t3.run python cropImages.py\n",
        "\t4.Output will be in \\Cropped\\\n",
        "\"\"\"\n",
        "import os\n",
        "from PIL import Image\n",
        "import xml.etree.ElementTree as ET\n",
        "import sys\n",
        "\n",
        "def get_immediate_subdirectories(a_dir):\n",
        "    return [name for name in os.listdir(a_dir)\n",
        "            if os.path.isdir(os.path.join(a_dir, name))]\n",
        "\n",
        "\n",
        "rootdir =\"/content/drive/My Drive/Colab Notebooks/mert\"\n",
        "CroppedFolder = \"/content/drive/My Drive/Colab Notebooks/mert/Cropped\"\n",
        "Annotation = \"/content/drive/My Drive/Colab Notebooks/mert/Annotation\"\n",
        "\n",
        "\n",
        "for directory in get_immediate_subdirectories(rootdir):\t#loop over all dirs\n",
        "    print(\"directory:::\")\n",
        "    print(directory)\n",
        "    if directory == \"facemask\":\n",
        "        print(\"Processing Directory: \" + directory)\n",
        "        for filename in os.listdir(\"/content/drive/My Drive/Colab Notebooks/mert/facemask\"):\n",
        "            print(\"file name::::\")\n",
        "            print(filename)\n",
        "            basename =  os.path.splitext(filename)[0] + \".xml\"\n",
        "            print(\"basename:::\")\n",
        "            print(basename)\n",
        "            try:\n",
        "                file = open ( os.path.join( Annotation, basename))\n",
        "                root = ET.fromstring(file.read())\n",
        "                file.close()\n",
        "                xmin = int (root.find('object').find('bndbox').find('xmin').text)\n",
        "                ymin = int (root.find('object').find('bndbox').find('ymin').text)\n",
        "                xmax = int (root.find('object').find('bndbox').find('xmax').text)\n",
        "                ymax = int (root.find('object').find('bndbox').find('ymax').text)\n",
        "                img =  Image.open( os.path.join(\"/content/drive/My Drive/Colab Notebooks/mert/facemask/\", filename) )\n",
        "                print(os.path.join(\"/content/drive/My Drive/Colab Notebooks/mert/facemask/\", filename))\n",
        "                cropped = img.crop((xmin, ymin, xmax, ymax))\n",
        "                save_file = open (os.path.join(CroppedFolder, filename), 'w')\n",
        "                print(os.path.join(CroppedFolder, filename))\n",
        "                cropped.save(os.path.join(CroppedFolder, filename))\n",
        "                save_file.close()\n",
        "\n",
        "\n",
        "            except :\n",
        "                print(\"Exception encountered at basename \" + basename + \" with path as \" +  os.path.join( Annotation, directory, basename) )"
      ],
      "execution_count": null,
      "outputs": []
    }
  ]
}